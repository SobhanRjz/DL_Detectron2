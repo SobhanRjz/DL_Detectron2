{
 "cells": [
  {
   "cell_type": "code",
   "execution_count": null,
   "metadata": {},
   "outputs": [],
   "source": [
    "!git clone https://github.com/SobhanRjz/DL_Detectron2.git\n",
    "%cd DL_Detectron2"
   ]
  },
  {
   "cell_type": "code",
   "execution_count": null,
   "metadata": {},
   "outputs": [],
   "source": [
    "\n",
    "# Look at training curves in tensorboard:\n",
    "import locale\n",
    "locale.getpreferredencoding = lambda: \"UTF-8\"\n",
    "\n",
    "!python -m pip install pyyaml==5.1\n",
    "import sys, os, distutils.core\n",
    "# Note: This is a faster way to install detectron2 in Colab, but it does not include all functionalities.\n",
    "# See https://detectron2.readthedocs.io/tutorials/install.html for full installation instructions\n",
    "!git clone 'https://github.com/facebookresearch/detectron2'\n",
    "dist = distutils.core.run_setup(\"./detectron2/setup.py\")\n",
    "!python -m pip install {' '.join([f\"'{x}'\" for x in dist.install_requires])}\n",
    "sys.path.insert(0, os.path.abspath('./detectron2'))\n",
    "\n",
    "import torch, detectron2\n",
    "!nvcc --version\n",
    "TORCH_VERSION = \".\".join(torch.__version__.split(\".\")[:2])\n",
    "CUDA_VERSION = torch.__version__.split(\"+\")[-1]\n",
    "print(\"torch: \", TORCH_VERSION, \"; cuda: \", CUDA_VERSION)\n",
    "print(\"detectron2:\", detectron2.__version__)\n",
    "\n",
    "from google.colab.patches import cv2_imshow\n",
    "\n"
   ]
  },
  {
   "cell_type": "code",
   "execution_count": null,
   "metadata": {},
   "outputs": [],
   "source": [
    "import detectron2\n",
    "print(f\"Detectron2 version: {detectron2.__version__}\")\n"
   ]
  },
  {
   "cell_type": "code",
   "execution_count": 3,
   "metadata": {},
   "outputs": [],
   "source": [
    "import os\n",
    "import sys\n",
    "# Get the parent directory path\n",
    "parent_dir = os.path.dirname(os.getcwd())\n",
    "if parent_dir not in sys.path:\n",
    "    sys.path.append(parent_dir)\n",
    "\n",
    "\n",
    "import logging\n",
    "from pathlib import Path\n",
    "import torch\n",
    "from Config.basic_config import BASE_PATH, DATA_PATH, OUTPUT_PATH, DEVICE\n",
    "from Config.basic_config import detectron2_logger as logger\n",
    "from Config.detectron2_config import DetectronConfig\n",
    "from Config.dataset_config import DatasetConfig\n",
    "from PreProcess.preprocess_COCO import COCOJsonProcessor\n",
    "from Train import mainTrain\n",
    "from detectron2.engine import launch\n"
   ]
  },
  {
   "cell_type": "code",
   "execution_count": null,
   "metadata": {},
   "outputs": [],
   "source": [
    "DATA_PATH"
   ]
  },
  {
   "cell_type": "code",
   "execution_count": null,
   "metadata": {},
   "outputs": [],
   "source": [
    "# Use pathlib for more robust path handling\n",
    "json_paths = [\n",
    "    Path(DATA_PATH) / split / \"_annotations.coco.json\"\n",
    "    for split in [\"train\", \"test\", \"valid\"]\n",
    "]\n",
    "\n",
    "logger.info(\"Processing COCO JSON files...\")\n",
    "# coco_processor = COCOJsonProcessor([str(p) for p in json_paths])\n",
    "# coco_processor.process_files()\n",
    "\n",
    "logger.info(\"Registering datasets...\")\n",
    "DatasetConfig().register_datasets()\n"
   ]
  },
  {
   "cell_type": "code",
   "execution_count": null,
   "metadata": {},
   "outputs": [],
   "source": [
    "from collections import Counter\n",
    "from detectron2.data import DatasetCatalog, MetadataCatalog\n",
    "import matplotlib.pyplot as plt\n",
    "import matplotlib\n",
    "\n",
    "# Load dataset\n",
    "\n",
    "dataset_dicts = DatasetCatalog.get(\"my_dataset_train\")\n",
    "metadata = MetadataCatalog.get(\"my_dataset_train\")\n",
    "\n"
   ]
  },
  {
   "cell_type": "code",
   "execution_count": null,
   "metadata": {},
   "outputs": [],
   "source": [
    "def setup_training():\n",
    "    \"\"\"Configure training settings and get GPU count\"\"\"\n",
    "    logger.info(\"Loading Detectron2 configuration...\")\n",
    "\n",
    "    \n",
    "    detectron_config = DetectronConfig()\n",
    "    cfg = detectron_config.get_cfg()\n",
    "\n",
    "    num_gpus = torch.cuda.device_count()\n",
    "    logger.info(f\"Number of GPUs available: {num_gpus}\")\n",
    "    \n",
    "    return cfg, num_gpus\n",
    "# Setup training configuration\n",
    "cfg, num_gpus = setup_training()"
   ]
  },
  {
   "cell_type": "code",
   "execution_count": null,
   "metadata": {},
   "outputs": [],
   "source": [
    "logger.info(\"Launching training...\")\n",
    "trained_model = launch(\n",
    "    mainTrain,\n",
    "    num_gpus,\n",
    "    num_machines=1,\n",
    "    machine_rank=0,\n",
    "    dist_url=\"auto\", \n",
    "    args=(cfg, \"default\"),\n",
    ")"
   ]
  },
  {
   "cell_type": "code",
   "execution_count": null,
   "metadata": {},
   "outputs": [],
   "source": []
  }
 ],
 "metadata": {
  "kernelspec": {
   "display_name": ".venv",
   "language": "python",
   "name": "python3"
  },
  "language_info": {
   "codemirror_mode": {
    "name": "ipython",
    "version": 3
   },
   "file_extension": ".py",
   "mimetype": "text/x-python",
   "name": "python",
   "nbconvert_exporter": "python",
   "pygments_lexer": "ipython3",
   "version": "3.10.0"
  }
 },
 "nbformat": 4,
 "nbformat_minor": 2
}
